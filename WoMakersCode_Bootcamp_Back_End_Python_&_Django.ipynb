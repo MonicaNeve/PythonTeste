{
  "nbformat": 4,
  "nbformat_minor": 0,
  "metadata": {
    "colab": {
      "provenance": [],
      "include_colab_link": true
    },
    "kernelspec": {
      "name": "python3",
      "display_name": "Python 3"
    },
    "language_info": {
      "name": "python"
    }
  },
  "cells": [
    {
      "cell_type": "markdown",
      "metadata": {
        "id": "view-in-github",
        "colab_type": "text"
      },
      "source": [
        "<a href=\"https://colab.research.google.com/github/MonicaNeve/PythonTeste/blob/main/WoMakersCode_Bootcamp_Back_End_Python_%26_Django.ipynb\" target=\"_parent\"><img src=\"https://colab.research.google.com/assets/colab-badge.svg\" alt=\"Open In Colab\"/></a>"
      ]
    },
    {
      "cell_type": "markdown",
      "source": [
        "DESAFIO 1\n",
        "\n",
        "Crie um programa que solicita ao usuário que insira três notas (valores de 0 a 10) e, em seguida, calcule e exiba a média dessas notas.\n",
        "\n",
        "Além disso, informe ao usuário se ele foi aprovado ou reprovado com base na média das notas, considerando a média mínima de aprovação como 6."
      ],
      "metadata": {
        "id": "sdBUCCdzeef3"
      }
    },
    {
      "cell_type": "code",
      "source": [
        "nota1 = float(input('Digite a primeira nota:'))\n",
        "nota2 = float(input('Digite a segunda nota:'))\n",
        "nota3 = float(input('Digite a terceira nota:'))\n",
        "\n",
        "media = (nota1 + nota2 + nota3) / 3\n",
        "\n",
        "if media >= 6.0:\n",
        "  print('Aprovado')\n",
        "else:\n",
        "  print('Reprovado')"
      ],
      "metadata": {
        "id": "j16D0tJ4evJ-"
      },
      "execution_count": null,
      "outputs": []
    },
    {
      "cell_type": "markdown",
      "source": [
        "DESAFIO 2\n",
        "\n",
        "Crie um programa que solicita ao usuário que insira um número inteiro e, em seguida, verifica se o número é par ou ímpar.\n",
        "\n",
        "O programa deve exibir uma mensagem indicando se o número é par ou ímpar."
      ],
      "metadata": {
        "id": "ClKDF5t4gEyu"
      }
    },
    {
      "cell_type": "code",
      "source": [
        "numero = 5\n",
        "\n",
        "if numero % 2 == 0:\n",
        "  print('O numero e PAR')\n",
        "else:\n",
        "  print('O numero e IMPAR')\n"
      ],
      "metadata": {
        "id": "GWkFk92kfuiO"
      },
      "execution_count": null,
      "outputs": []
    },
    {
      "cell_type": "markdown",
      "source": [
        "DESAFIO 3\n",
        "\n",
        "Crie um programa que verifica se uma palavra fornecida pelo usuário é um palíndromo ou não.\n",
        "\n",
        "(Um palíndromo é uma palavra que é lida da mesma forma tanto da esquerda para a direita quanto da direita para a esquerda.)"
      ],
      "metadata": {
        "id": "MmsZIAj-e0NX"
      }
    },
    {
      "cell_type": "code",
      "source": [
        "palavra = input('Digite uma palavra:')\n",
        "print ('Vôce digitou: {}'. format(palavra))\n",
        "invertida = ''. join (palavra[::-1] for palavra in palavra.split())\n",
        "print('A palavra que vôce digitou invertida fica: {}'.format(invertida))\n"
      ],
      "metadata": {
        "id": "PobFqQqafLNj"
      },
      "execution_count": null,
      "outputs": []
    },
    {
      "cell_type": "markdown",
      "source": [
        "DESAFIO 4\n",
        "\n",
        "Crie um programa que solicita ao usuário que insira um número inteiro positivo e, em seguida, calcula e exibe o fatorial desse número.\n",
        "\n",
        "(O fatorial de um número é o produto de todos os números inteiros positivos de 1 até o próprio número.)"
      ],
      "metadata": {
        "id": "9WPRqUfIgLQK"
      }
    },
    {
      "cell_type": "code",
      "source": [
        "numero = int(input('Fatorial de:'))\n",
        "resultado = 1\n",
        "for numero in range(1, numero+1):\n",
        "  resultado *= numero\n",
        "print(resultado)"
      ],
      "metadata": {
        "id": "B3VE36bRgJWu"
      },
      "execution_count": null,
      "outputs": []
    },
    {
      "cell_type": "markdown",
      "source": [
        "DESAFIO 5\n",
        "\n",
        "Crie um programa que permita ao usuário gerenciar suas tarefas diárias. O programa deve oferecer as seguintes funcionalidades:\n",
        "\n",
        "*   Adicionar uma nova tarefa;\n",
        "*   Visualizar todas as tarefas;\n",
        "*   Marcar uma tarefa como concluída;\n",
        "*   Remover uma tarefa;\n",
        "*   Sair do programa.\n",
        "\n",
        "(Você pode implementar essas funcionalidades usando listas para armazenar as tarefas e estruturas de controle como loops e condicionais para interagir com o usuário.)"
      ],
      "metadata": {
        "id": "dLmeFEi2fO9f"
      }
    },
    {
      "cell_type": "code",
      "source": [
        "tarefas = []\n",
        "\n",
        "while True:\n",
        "\n",
        "  item = str(input('item:')).strip()\n",
        "  tarefas.append(item)\n",
        "\n",
        "  continuar = str(input('Deseja continuar? S/N\\n')).strip().upper()[0]\n",
        "  if continuar == 'N':\n",
        "    break\n",
        "  elif continuar == 'S':\n",
        "    continue\n",
        "  else:\n",
        "    print('Digite uma opção válida!')\n",
        "    continue\n",
        "\n",
        "contador = 0\n",
        "\n",
        "for item in tarefas:\n",
        "  print(contador, '-', item, end= '\\n')\n",
        "  contador +=1\n",
        "\n",
        "\n"
      ],
      "metadata": {
        "id": "PXiVArxo5iOU"
      },
      "execution_count": null,
      "outputs": []
    }
  ]
}