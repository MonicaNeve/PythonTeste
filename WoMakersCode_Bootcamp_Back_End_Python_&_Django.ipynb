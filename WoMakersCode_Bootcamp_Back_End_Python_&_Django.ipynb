{
  "nbformat": 4,
  "nbformat_minor": 0,
  "metadata": {
    "colab": {
      "provenance": [],
      "include_colab_link": true
    },
    "kernelspec": {
      "name": "python3",
      "display_name": "Python 3"
    },
    "language_info": {
      "name": "python"
    }
  },
  "cells": [
    {
      "cell_type": "markdown",
      "metadata": {
        "id": "view-in-github",
        "colab_type": "text"
      },
      "source": [
        "<a href=\"https://colab.research.google.com/github/MonicaNeve/PythonTeste/blob/main/WoMakersCode_Bootcamp_Back_End_Python_%26_Django.ipynb\" target=\"_parent\"><img src=\"https://colab.research.google.com/assets/colab-badge.svg\" alt=\"Open In Colab\"/></a>"
      ]
    },
    {
      "cell_type": "markdown",
      "source": [
        "DESAFIO 1\n",
        "\n",
        "Crie um programa que solicita ao usuário que insira três notas (valores de 0 a 10) e, em seguida, calcule e exiba a média dessas notas.\n",
        "\n",
        "Além disso, informe ao usuário se ele foi aprovado ou reprovado com base na média das notas, considerando a média mínima de aprovação como 6."
      ],
      "metadata": {
        "id": "sdBUCCdzeef3"
      }
    },
    {
      "cell_type": "code",
      "source": [
        "nota1 = float(input('Digite a primeira nota:'))\n",
        "nota2 = float(input('Digite a segunda nota:'))\n",
        "nota3 = float(input('Digite a terceira nota:'))\n",
        "\n",
        "media = (nota1 + nota2 + nota3) / 3\n",
        "\n",
        "if media >= 6.0:\n",
        "  print('Aprovado')\n",
        "else:\n",
        "  print('Reprovado')"
      ],
      "metadata": {
        "id": "j16D0tJ4evJ-"
      },
      "execution_count": null,
      "outputs": []
    },
    {
      "cell_type": "markdown",
      "source": [
        "DESAFIO 2\n",
        "\n",
        "Crie um programa que solicita ao usuário que insira um número inteiro e, em seguida, verifica se o número é par ou ímpar.\n",
        "\n",
        "O programa deve exibir uma mensagem indicando se o número é par ou ímpar."
      ],
      "metadata": {
        "id": "ClKDF5t4gEyu"
      }
    },
    {
      "cell_type": "code",
      "source": [
        "numero = 5\n",
        "\n",
        "if numero % 2 == 0:\n",
        "  print('O numero e PAR')\n",
        "else:\n",
        "  print('O numero e IMPAR')\n"
      ],
      "metadata": {
        "id": "GWkFk92kfuiO"
      },
      "execution_count": null,
      "outputs": []
    },
    {
      "cell_type": "markdown",
      "source": [
        "DESAFIO 3\n",
        "\n",
        "Crie um programa que verifica se uma palavra fornecida pelo usuário é um palíndromo ou não.\n",
        "\n",
        "(Um palíndromo é uma palavra que é lida da mesma forma tanto da esquerda para a direita quanto da direita para a esquerda.)"
      ],
      "metadata": {
        "id": "MmsZIAj-e0NX"
      }
    },
    {
      "cell_type": "code",
      "source": [
        "palavra = input('Digite uma palavra:')\n",
        "print ('Vôce digitou: {}'. format(palavra))\n",
        "invertida = ''. join (palavra[::-1] for palavra in palavra.split())\n",
        "print('A palavra que vôce digitou invertida fica: {}'.format(invertida))\n"
      ],
      "metadata": {
        "id": "PobFqQqafLNj"
      },
      "execution_count": null,
      "outputs": []
    },
    {
      "cell_type": "markdown",
      "source": [
        "DESAFIO 4\n",
        "\n",
        "Crie um programa que solicita ao usuário que insira um número inteiro positivo e, em seguida, calcula e exibe o fatorial desse número.\n",
        "\n",
        "(O fatorial de um número é o produto de todos os números inteiros positivos de 1 até o próprio número.)"
      ],
      "metadata": {
        "id": "9WPRqUfIgLQK"
      }
    },
    {
      "cell_type": "code",
      "source": [
        "numero = int(input('Fatorial de:'))\n",
        "resultado = 1\n",
        "for numero in range(1, numero+1):\n",
        "  resultado *= numero\n",
        "print(resultado)"
      ],
      "metadata": {
        "id": "B3VE36bRgJWu"
      },
      "execution_count": null,
      "outputs": []
    },
    {
      "cell_type": "markdown",
      "source": [
        "DESAFIO 5\n",
        "\n",
        "Crie um programa que permita ao usuário gerenciar suas tarefas diárias. O programa deve oferecer as seguintes funcionalidades:\n",
        "\n",
        "*   Adicionar uma nova tarefa;\n",
        "*   Visualizar todas as tarefas;\n",
        "*   Marcar uma tarefa como concluída;\n",
        "*   Remover uma tarefa;\n",
        "*   Sair do programa.\n",
        "\n",
        "(Você pode implementar essas funcionalidades usando listas para armazenar as tarefas e estruturas de controle como loops e condicionais para interagir com o usuário.)"
      ],
      "metadata": {
        "id": "dLmeFEi2fO9f"
      }
    },
    {
      "cell_type": "code",
      "source": [
        "opcao = ''\n",
        "add_tarefa = ''\n",
        "concluir_tarefa = ''\n",
        "remove_tarefa = ''\n",
        "list_tarefas = ''\n",
        "clear_list = ''\n",
        "concluir_tarefas = ''\n",
        "\n",
        "if opcao =='0':\n",
        "   print('\\n...Encerrando o gerenciador de tarefas')\n",
        "   breakpoint\n",
        "\n",
        "elif opcao == '1':\n",
        "     tarefa_name = input('Digite o nome da tarefa ==>')\n",
        "     add_tarefa(tarefa_name)\n",
        "\n",
        "elif opcao == '2':\n",
        "     tarefa_name = input('Digite o nome da tarefa que deseja incluir ==>')\n",
        "     concluir_tarefa(tarefa_name)\n",
        "\n",
        "elif opcao == '3':\n",
        "     tarefa_name = input('Digite o nome da tarefa que gotaria de remover ==>')\n",
        "     remove_tarefa(tarefa_name)\n",
        "\n",
        "elif opcao =='4':\n",
        "     list_tarefas()\n",
        "\n",
        "elif opcao == '5':\n",
        "     clear_list()\n",
        "\n",
        "# criar lista tarefas\n",
        "\n",
        "tarefas = []\n",
        "\n",
        "# adicionar\n",
        "\n",
        "def add_tarefa(tarefa):\n",
        "    tarefas.append({\"tarefa\": tarefa, \"cocluida\": False})\n",
        "    print('Tarefa adicionada:',tarefa)\n",
        "\n",
        "# remover\n",
        "\n",
        "def remove_tarefa(tarefa):\n",
        "    for t in tarefas:\n",
        "        if t['tarefa'] == tarefa:\n",
        "          tarefas.remove(t)\n",
        "          print('Tarefa removida', tarefa)\n",
        "          return\n",
        "    print('Tarefa não encontrada')\n",
        "\n",
        "# concluir\n",
        "\n",
        "def concluir_tarefa(tarefa):\n",
        "    for t in tarefas:\n",
        "        if t['tarefa'] == tarefa:\n",
        "          t['concluida'] = True\n",
        "          print('\\n-->Tarefa concluida:' , tarefa)\n",
        "          return\n",
        "\n",
        "    print('Tarefa não encontrada')\n",
        "\n",
        "# exibir\n",
        "\n",
        "def lista_tarefas():\n",
        "     if tarefas:\n",
        "        print('\\n--->Lista de tarefas<---')\n",
        "        for t in tarefas:\n",
        "            status = 'concluido' if t['concluido'] else \"Pendente\"\n",
        "            print(f\"{t['tarefa']} - {status}\")\n",
        "     else:\n",
        "        print('\\nSem tarefas no momento.')\n",
        "\n",
        "# limpar lista\n",
        "\n",
        "def clear_list():\n",
        "    tarefas.clear()\n",
        "    print('Todas as tarefas foram removidas.')\n",
        "\n",
        "# selecionar\n",
        "\n",
        "while True:\n",
        "\n",
        "  print('\\n--->Gerenciador de tarefas<---')\n",
        "  print('1 - Adicionar uma nova tarefa')\n",
        "  print('2 - Marcar uma tarefa como concluída')\n",
        "  print('3 - Remover uma tarefa')\n",
        "  print('4 - Exibir tarefas')\n",
        "  print('5 - Limpar todas as tarefas')\n",
        "  print('0- Sair do programa')\n",
        "\n",
        "  opcao = input('\\nDigite a opcao desejada ==>')\n",
        "  if opcao =='0':\n",
        "     print('\\n...Encerrando o gerenciador de tarefas')\n",
        "     break\n",
        "\n",
        "  elif opcao == '1':\n",
        "       tarefa_name = input('Digite o nome da tarefa ==>')\n",
        "       add_tarefa(tarefa_name)\n",
        "\n",
        "  elif opcao == '2':\n",
        "       tarefa_name = input('Digite o nome da tarefa que deseja incluir ==>')\n",
        "       concluir_tarefa(tarefa_name)\n",
        "\n",
        "  elif opcao == '3':\n",
        "       tarefa_name = input('Digite o nome da tarefa que gotaria de remover ==>')\n",
        "       remove_tarefa(tarefa_name)\n",
        "\n",
        "  elif opcao == '4':\n",
        "        list_tarefas()\n",
        "\n",
        "\n",
        "  elif opcao == '5':\n",
        "        clear_list()"
      ],
      "metadata": {
        "id": "PXiVArxo5iOU"
      },
      "execution_count": null,
      "outputs": []
    }
  ]
}